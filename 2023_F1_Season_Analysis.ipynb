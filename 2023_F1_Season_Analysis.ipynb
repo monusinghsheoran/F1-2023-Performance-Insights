{
 "cells": [
  {
   "cell_type": "markdown",
   "id": "15f75162-2df4-4345-89ba-45d95570f05d",
   "metadata": {},
   "source": [
    "# Formula 1 - 2023 Season Analysis\n",
    "\n",
    "### Created by MONU (monusinghsheoran)"
   ]
  },
  {
   "cell_type": "code",
   "execution_count": null,
   "id": "2c893bb7-2d80-4658-ab18-a223b614f3af",
   "metadata": {},
   "outputs": [],
   "source": [
    "import numpy as np\n",
    "import pandas as pd\n",
    "import matplotlib.pyplot as plt\n",
    "import seaborn as sns\n",
    "import math\n",
    "from datetime import timedelta\n",
    "%matplotlib inline"
   ]
  },
  {
   "cell_type": "code",
   "execution_count": null,
   "id": "50677e7f-5ff7-4467-aedd-046e3a1303ab",
   "metadata": {},
   "outputs": [],
   "source": [
    "calendar = pd.read_csv('formula1_2023season_calendar.csv')\n",
    "calendar.set_index('Round', inplace=True)\n",
    "drivers = pd.read_csv('formula1_2023season_drivers.csv')\n",
    "drivers.set_index('Abbreviation', inplace=True)\n",
    "raceResults = pd.read_csv('formula1_2023season_raceResults.csv')"
   ]
  },
  {
   "cell_type": "markdown",
   "id": "a3be7e77-97ef-4402-9992-0b05b522ca27",
   "metadata": {},
   "source": [
    "### 2023 Season Race Calendar\n"
   ]
  },
  {
   "cell_type": "code",
   "execution_count": null,
   "id": "94ad0f79-6c39-4796-a8c4-5e88c3fe9a6d",
   "metadata": {},
   "outputs": [],
   "source": [
    "calendar[['GP Name', 'City', 'Country', 'Circuit Name', 'Race Date', 'Circuit Length(km)', 'Number of Laps']]"
   ]
  },
  {
   "cell_type": "markdown",
   "id": "5cbc333b-a826-4e0d-b147-ebabd36269a8",
   "metadata": {},
   "source": [
    "### 2023 Season Drivers"
   ]
  },
  {
   "cell_type": "code",
   "execution_count": null,
   "id": "d042cd70-4915-48b8-a327-9ce90a812af4",
   "metadata": {},
   "outputs": [],
   "source": [
    "drivers[['No', 'Driver', 'Team', 'Country', 'Date of Birth', 'Place of Birth', \n",
    "         'Grands Prix Entered', 'Highest Race Finish']]"
   ]
  },
  {
   "cell_type": "code",
   "execution_count": null,
   "id": "a1be450f-ac30-4f7c-8eb1-57e92f750a97",
   "metadata": {},
   "outputs": [],
   "source": [
    "def assign_color(val_type,values):\n",
    "    cl = []\n",
    "    for val in values:\n",
    "        if val_type == 'drivers':  abbr = val.split()[1].upper()[0:3]\n",
    "        elif val_type == 'teams':  abbr = val[0:4].upper()\n",
    "        if abbr in ['ALFA','RAI','GIO']:         cl.append('#960000')\n",
    "        elif abbr in ['HAAS','GRO','MAG','FIT']: cl.append('#787878')\n",
    "        elif abbr in ['RACI','PER','STR','HUL']: cl.append('#f595c8')\n",
    "        elif abbr in ['WILL','RUS','LAT','AIT']: cl.append('#0082fa')\n",
    "        elif abbr in ['ALPH','GAS','KVY']:       cl.append('#ffffff')\n",
    "        elif abbr in ['MCLA','SAI','NOR']:       cl.append('#ff8700')\n",
    "        elif abbr in ['RED ','VER','ALB']:       cl.append('#0600f0')\n",
    "        elif abbr in ['FERR','LEC','VET']:       cl.append('#cb0000')\n",
    "        elif abbr in ['MERC','HAM','BOT']:       cl.append('#00d2b5')\n",
    "        elif abbr in ['RENA','RIC','OCO']:       cl.append('#fff500')\n",
    "    return cl"
   ]
  },
  {
   "cell_type": "markdown",
   "id": "fe45c3e5-fd7d-4901-a506-2d085bd07f06",
   "metadata": {},
   "source": [
    "# Highlights of the 2023 Formula 1 Season: A Year of Thrilling Races\n",
    "The 2023 Formula 1 season has been a rollercoaster of emotions, filled with breathtaking performances and unforgettable moments. Here are the highlights from six standout races that defined the season:\n"
   ]
  },
  {
   "cell_type": "markdown",
   "id": "ec0c58d1-401d-498b-b2e0-823e12d1567b",
   "metadata": {},
   "source": [
    "## Results of Several Notable Races in 2023 Season"
   ]
  },
  {
   "cell_type": "markdown",
   "id": "bbfb9af2-c9e4-475d-ace7-65c43f7a11ac",
   "metadata": {},
   "source": [
    "### BAHRAIN - A Grand Opening Under the Lights\n",
    "**Key Moment**: Max Verstappen's dominant performance set the tone for the season.\n",
    "\n",
    "The season kicked off in Bahrain, where Verstappen showcased the raw power of Red Bull Racing. Fans were treated to a night filled with high-speed drama, as he finished well ahead of the competition, signaling Red Bull's intent for the championship.\n"
   ]
  },
  {
   "cell_type": "code",
   "execution_count": null,
   "id": "ea3c6ebd-d899-430d-bd8b-4553e94c3db0",
   "metadata": {},
   "outputs": [],
   "source": [
    "raceResults[raceResults['Track'] == 'Bahrain'].set_index('Position').drop('Track', axis=1).head(10)"
   ]
  },
  {
   "cell_type": "markdown",
   "id": "943c47b8-8d86-4adc-b46e-3e6f75207a00",
   "metadata": {},
   "source": [
    "### SAUDI ARABIA - Perez's Impressive Victory\n",
    "**Key Moment**: Sergio Perez executed a flawless race strategy to clinch victory.\n",
    "\n",
    "In Jeddah, Perez shone brightly, starting from the front row and navigating the challenging street circuit with skill. His win highlighted the fierce competition within the Red Bull team, leaving fans buzzing with excitement.\n"
   ]
  },
  {
   "cell_type": "code",
   "execution_count": null,
   "id": "275b18ee-fe91-4d6f-8b2c-27ead9a85049",
   "metadata": {},
   "outputs": [],
   "source": [
    "raceResults[raceResults['Track'] == 'Saudi Arabia'].set_index('Position').drop('Track', axis=1).head(10)"
   ]
  },
  {
   "cell_type": "markdown",
   "id": "acdfff65-33dd-495b-8cb5-bd9335c1a5a0",
   "metadata": {},
   "source": [
    "### AUSTRALIA - Hamilton's Masterful Comeback\n",
    "**Key Moment**: Lewis Hamilton’s daring overtakes led him to a stunning victory.\n",
    "\n",
    "The Australian GP saw Hamilton battle from mid-field to reclaim the top spot, executing a series of impressive maneuvers. The Melbourne crowd erupted as he crossed the finish line, reaffirming his status as a fan favorite and a racing legend.\n"
   ]
  },
  {
   "cell_type": "code",
   "execution_count": null,
   "id": "d7d7c256-2e84-4062-a908-4e8363b2f338",
   "metadata": {},
   "outputs": [],
   "source": [
    "raceResults[raceResults['Track'] == 'Australia'].set_index('Position').drop('Track', axis=1).head(10)"
   ]
  },
  {
   "cell_type": "markdown",
   "id": "94f3f33f-46b7-4f7b-86ee-fa1d4a00aa24",
   "metadata": {},
   "source": [
    "### AZERBAIJAN - A Battle of Wills\n",
    "**Key Moment**: Max Verstappen’s strategic brilliance shone in a race full of lead changes.\n",
    "\n",
    "The Baku streets turned into a thrilling battleground, with Verstappen securing victory amidst tight corners and intense competition. The unpredictable nature of street racing kept fans on the edge of their seats throughout the event.\n"
   ]
  },
  {
   "cell_type": "code",
   "execution_count": null,
   "id": "8f0325b6-0042-4cbd-965f-24267cb7e7a8",
   "metadata": {},
   "outputs": [],
   "source": [
    "raceResults[raceResults['Track'] == 'Azerbaijan'].set_index('Position').drop('Track', axis=1).head(10)"
   ]
  },
  {
   "cell_type": "markdown",
   "id": "f518a451-c9ed-41af-83ec-d99dd85b5ef3",
   "metadata": {},
   "source": [
    "### MIAMI - Alonso's Glorious Return\n",
    "**Key Moment**: Fernando Alonso captured the hearts of fans with a stunning podium finish.\n",
    "\n",
    "At the Miami Grand Prix, Alonso’s strategic driving and fierce battles showcased his return to form. The vibrant atmosphere added to the excitement as fans celebrated his remarkable achievement and skill on the track.\n"
   ]
  },
  {
   "cell_type": "code",
   "execution_count": null,
   "id": "c46d2256-7042-4304-b9f5-f77759f3fb62",
   "metadata": {},
   "outputs": [],
   "source": [
    "raceResults[raceResults['Track'] == 'Miami'].set_index('Position').drop('Track', axis=1).head(10)"
   ]
  },
  {
   "cell_type": "markdown",
   "id": "48be2e5a-23fe-4772-90a8-b7d3da6fb9b5",
   "metadata": {},
   "source": [
    "### MONACO - Verstappen's Mastery in the Streets\n",
    "**Key Moment**: Verstappen’s precision driving earned him a prestigious Monaco win.\n",
    "\n",
    "The iconic Monaco Grand Prix saw Verstappen navigate the narrow streets with exceptional skill, solidifying his position as the championship frontrunner. The glamour of Monaco combined with high-stakes racing created a captivating atmosphere for fans.\n"
   ]
  },
  {
   "cell_type": "code",
   "execution_count": null,
   "id": "96b73360-83e4-495c-a0ef-8e98160d8509",
   "metadata": {},
   "outputs": [],
   "source": [
    "raceResults[raceResults['Track'] == 'Monaco'].set_index('Position').drop('Track', axis=1).head(10)"
   ]
  },
  {
   "cell_type": "markdown",
   "id": "547539e4-3649-4c42-a1db-f6dbcc5f46ea",
   "metadata": {},
   "source": [
    "### 2023 Season - Drivers Standings\n"
   ]
  },
  {
   "cell_type": "code",
   "execution_count": null,
   "id": "750f540a-1c00-47ef-a958-6a43587843fd",
   "metadata": {},
   "outputs": [],
   "source": [
    "driversSt = raceResults.groupby(['Driver','Team'])['Points'].sum().sort_values(ascending=False)\n",
    "driversSt = driversSt.reset_index().drop(20)\n",
    "driversSt.iloc[17,1] = 'Williams Mercedes'\n",
    "driversSt['Position'] = range(1,len(driversSt)+1)\n",
    "driversSt.set_index('Position')"
   ]
  },
  {
   "cell_type": "markdown",
   "id": "f378c860-7e33-4128-aa58-a23cba4ead88",
   "metadata": {},
   "source": [
    "### 2023 Season - Points Earned in Italy, United States\n"
   ]
  },
  {
   "cell_type": "code",
   "execution_count": null,
   "id": "5b7c38ec-54d3-47e2-8763-559842fd659e",
   "metadata": {},
   "outputs": [],
   "source": [
    "racesItaly = raceResults[raceResults['Track'].isin(['Italy', 'United States'])]\n",
    "pointsItaly = racesItaly.groupby(['Driver','Team'])['Points'].sum().sort_values(ascending=False)\n",
    "pointsItaly = pointsItaly.reset_index()\n",
    "pointsItaly['Position'] = range(1, len(pointsItaly) + 1)\n",
    "pointsItaly.set_index('Position')"
   ]
  },
  {
   "cell_type": "markdown",
   "id": "47071eb1-9123-4560-b883-ed801a0a81e5",
   "metadata": {},
   "source": [
    "### 2023 Season - Constructors Standings\n"
   ]
  },
  {
   "cell_type": "code",
   "execution_count": null,
   "id": "b5456c21-7cac-4f0b-9338-fba8a8eb4411",
   "metadata": {},
   "outputs": [],
   "source": [
    "constructorsSt = raceResults.groupby('Team')['Points'].sum()\n",
    "constructorsSt.loc['Red Bull Racing Honda RBPT'] -= 15\n",
    "constructorsSt = constructorsSt.sort_values(ascending=False).reset_index()\n",
    "constructorsSt['Position'] = range(1,11)\n",
    "constructorsSt.set_index('Position')"
   ]
  },
  {
   "cell_type": "markdown",
   "id": "f02b936f-baa7-4dc4-90a3-588815b8a534",
   "metadata": {},
   "source": [
    "### Race Winners"
   ]
  },
  {
   "cell_type": "code",
   "execution_count": null,
   "id": "6134a95f-fdaa-475f-b8df-a8898c345bdd",
   "metadata": {},
   "outputs": [],
   "source": [
    "winners = raceResults[raceResults['Position'] == '1'].reset_index() \\\n",
    "          .drop(['index','Position', 'Points'], axis=1).set_index('Track')\n",
    "winners.rename(columns={'Total Time/Gap/Retirement': 'Total Time'}, inplace=True)\n",
    "winners"
   ]
  },
  {
   "cell_type": "markdown",
   "id": "d4649e33-885e-4a62-828e-5e3825e47567",
   "metadata": {},
   "source": [
    "### Bar chart visualization of Race Winners"
   ]
  },
  {
   "cell_type": "code",
   "execution_count": null,
   "id": "214c5a52-6262-44a8-8f53-ac047ed9ca84",
   "metadata": {},
   "outputs": [],
   "source": [
    "winnerCnt = winners['Driver'].value_counts()\n",
    "plt.style.use('dark_background')\n",
    "plt.rcParams['axes.facecolor'] = '#15151e'\n",
    "plt.rcParams['figure.facecolor'] = '#15151e'\n",
    "plt.rcParams['grid.color'] = '#444444'\n",
    "c = assign_color('drivers', winnerCnt.index)\n",
    "plt.figure(figsize=(11, 4))\n",
    "plt.barh([driver.split()[1] for driver in winnerCnt.index], winnerCnt.values, color=c)\n",
    "for i in range(len(winnerCnt.values)):\n",
    "    plt.text(winnerCnt.values[i] - 0.4, i + 0.15, winnerCnt.values[i], color='k', fontsize=18)\n",
    "plt.axis([0, max(winnerCnt.values) + 0.5, len(winnerCnt) - 0.4, -0.6])\n",
    "plt.title(\"Formula 1 - 2023 Season - Race Winner Counts\", fontsize=18)\n",
    "plt.xlabel(\"Win Counts\", fontsize=13)\n",
    "plt.xticks(fontsize=13)\n",
    "plt.yticks(fontsize=14)\n",
    "plt.grid(axis='y')\n",
    "plt.show()\n"
   ]
  },
  {
   "cell_type": "markdown",
   "id": "a6ec0fcf-7f49-48c7-9889-08d5102ea05e",
   "metadata": {},
   "source": [
    "### How many hours we spent at least"
   ]
  },
  {
   "cell_type": "code",
   "execution_count": null,
   "id": "d8d7f9d7-8691-466e-ad43-20220c28f4ed",
   "metadata": {},
   "outputs": [],
   "source": [
    "totalTime = timedelta()\n",
    "for time in winners['Time/Retired']:\n",
    "    totalTime += timedelta(hours=int(time[0]), minutes=int(time[2:4]), seconds=int(time[5:7]), milliseconds=int(time[8:]))\n",
    "print(\"TOTAL WINNERS RACE TIME: {} day {} hours {} minutes {} seconds\".format(totalTime.days, totalTime.seconds//3600, \n",
    "                                                (totalTime.seconds-(totalTime.seconds//3600*3600))//60,\n",
    "                                                (totalTime.seconds-(totalTime.seconds//3600*3600))%60 ) )"
   ]
  },
  {
   "cell_type": "markdown",
   "id": "3ac6bfa6-82b9-4063-a5f5-2b9e851ef0db",
   "metadata": {},
   "source": [
    "### Pole Positions"
   ]
  },
  {
   "cell_type": "code",
   "execution_count": null,
   "id": "64a7a6c4-0980-42cf-a9e5-80c9528b1e72",
   "metadata": {},
   "outputs": [],
   "source": [
    "polePos = raceResults[raceResults['Starting Grid'] == 1][['Track','Driver','Team','Position','Fastest Lap Time']].set_index('Track')\n",
    "polePos.rename(columns={'Position':'Finish Position'}, inplace=True)\n",
    "polePos"
   ]
  },
  {
   "cell_type": "markdown",
   "id": "06a4ad99-30cb-48b6-a233-ad9f41673e3a",
   "metadata": {},
   "source": [
    "## Podium Finishes"
   ]
  },
  {
   "cell_type": "markdown",
   "id": "ac2bac0f-8d65-41c7-9455-d0064ec2f418",
   "metadata": {},
   "source": [
    "### Podium Finish Counts (Driver)"
   ]
  },
  {
   "cell_type": "code",
   "execution_count": null,
   "id": "77f8d7e5-3264-40ed-a891-63e1dc647c31",
   "metadata": {},
   "outputs": [],
   "source": [
    "podiums = raceResults[raceResults['Position'].isin(['1','2','3'])]\n",
    "podiumsCnt = podiums['Driver'].value_counts()\n",
    "c = assign_color('drivers',podiumsCnt.index)\n",
    "plt.figure(figsize=(11,6.5))\n",
    "plt.barh([driver.split()[1] for driver in podiumsCnt.index], podiumsCnt.values, color=c)\n",
    "for i in range(len(podiumsCnt.values)):\n",
    "    plt.text(podiumsCnt.values[i]-0.5, i+0.15, podiumsCnt.values[i], color='k', fontsize=15)\n",
    "plt.axis([0,max(podiumsCnt)+0.5,len(podiumsCnt)-0.4,-0.6])\n",
    "plt.title(\"Formula 1 - 2023 Season - Podium Finish Counts (Driver)\", fontsize=18)\n",
    "plt.xlabel(\"Podium Counts\", fontsize=13)\n",
    "plt.xticks(fontsize=13)\n",
    "plt.yticks(fontsize=13)\n",
    "plt.grid(axis='y')\n",
    "plt.show()"
   ]
  },
  {
   "cell_type": "markdown",
   "id": "3aa23319-f40b-4a66-80f2-a9d78d653d5a",
   "metadata": {},
   "source": [
    "### Podium Finish Counts (Team"
   ]
  },
  {
   "cell_type": "code",
   "execution_count": null,
   "id": "a93778a7-2b27-44cd-a7c7-4f681d81da00",
   "metadata": {},
   "outputs": [],
   "source": [
    "podiumsCntTeam = podiums['Team'].value_counts()\n",
    "c = assign_color('teams',podiumsCntTeam.index)\n",
    "plt.figure(figsize=(11,5.5))\n",
    "plt.barh(podiumsCntTeam.index, podiumsCntTeam.values, color=c)\n",
    "for i in range(len(podiumsCntTeam.values)):\n",
    "    if podiumsCntTeam.values[i] >= 10:  sh = 1\n",
    "    else:   sh = 0.6\n",
    "    plt.text(podiumsCntTeam.values[i]-sh, i+0.15, podiumsCntTeam.values[i], color='k', fontsize=16)\n",
    "plt.axis([0,max(podiumsCntTeam.values)+0.5,len(podiumsCntTeam)-0.4,-0.6])\n",
    "plt.title(\"Formula 1 - 2023 Season - Podium Finish Counts (Team)\", fontsize=18)\n",
    "plt.xlabel(\"Podium Counts\", fontsize=13)\n",
    "plt.xticks(fontsize=13)\n",
    "plt.yticks(fontsize=13)\n",
    "plt.grid(axis='y')\n",
    "plt.show()"
   ]
  },
  {
   "cell_type": "markdown",
   "id": "eb4d0211-1596-4900-a062-02cc01cffe0d",
   "metadata": {},
   "source": [
    "### Top 10 Finishes"
   ]
  },
  {
   "cell_type": "code",
   "execution_count": null,
   "id": "69e24608-3e41-4e9c-ac7e-8184c8361359",
   "metadata": {},
   "outputs": [],
   "source": [
    "top10 = map(str, list(range(1,11)))\n",
    "topTenFinishes = raceResults[raceResults['Position'].isin(top10)]['Driver'].value_counts()\n",
    "c = assign_color('drivers',topTenFinishes.index)\n",
    "plt.figure(figsize=(11,7.5))\n",
    "plt.barh([driver.split()[1] for driver in topTenFinishes.index], topTenFinishes.values, color=c)\n",
    "for i in range(len(topTenFinishes.values)):\n",
    "    if topTenFinishes.values[i] >= 10:  sh = 0.5\n",
    "    else:   sh = 0.35\n",
    "    plt.text(topTenFinishes.values[i]-sh, i+0.23, topTenFinishes.values[i], color='k', fontsize=15)\n",
    "plt.axis([0,max(topTenFinishes.values)+0.5,len(topTenFinishes)-0.4,-0.6])\n",
    "plt.title(\"Formula 1 - 2023 Season - Top 10 Finish Counts\", fontsize=18)\n",
    "plt.xlabel(\"Top 10 Counts\", fontsize=13)\n",
    "plt.xticks(fontsize=13)\n",
    "plt.yticks(fontsize=13)\n",
    "plt.grid(axis='y')\n",
    "plt.show()"
   ]
  },
  {
   "cell_type": "markdown",
   "id": "4e401e53-fd33-440a-a6db-8245e90622d3",
   "metadata": {},
   "source": [
    "### DNF Analyses"
   ]
  },
  {
   "cell_type": "code",
   "execution_count": null,
   "id": "e958f8f8-3553-4a7a-8229-909cbec1af9e",
   "metadata": {},
   "outputs": [],
   "source": [
    "DNF = raceResults[raceResults['Time/Retired'] == 'DNF']\n",
    "print(\"Total of {} DNFs have occurred.\".format(DNF.shape[0]))"
   ]
  },
  {
   "cell_type": "markdown",
   "id": "12e6795f-cc9a-4208-8086-dc866be31709",
   "metadata": {},
   "source": [
    "### Grands Prix individually"
   ]
  },
  {
   "cell_type": "code",
   "execution_count": null,
   "id": "2a35237d-5bff-4ac8-a68f-68da8a160830",
   "metadata": {},
   "outputs": [],
   "source": [
    "DNFtrack = DNF['Track'].value_counts()\n",
    "plt.figure(figsize=(11,6))\n",
    "plt.barh(DNFtrack.index, DNFtrack.values, color='#43def0')\n",
    "for i in range(len(DNFtrack.values)):\n",
    "    plt.text(DNFtrack.values[i]-0.2, i+0.23, DNFtrack.values[i], color='k', fontsize=15)\n",
    "plt.axis([0,max(DNFtrack.values)+0.3,len(DNFtrack)-0.4,-0.6])\n",
    "plt.title(\"Formula 1 - 2023 Season - DNFs in Grands Prix\", fontsize=18)\n",
    "plt.xlabel(\"DNFs\", fontsize=13)\n",
    "plt.xticks(fontsize=13)\n",
    "plt.yticks(fontsize=13)\n",
    "plt.grid(axis='y')\n",
    "plt.show()"
   ]
  },
  {
   "cell_type": "code",
   "execution_count": null,
   "id": "fb6b10c1-62a4-4e4e-931d-89aa9a2d0d37",
   "metadata": {},
   "outputs": [],
   "source": [
    "raceResults[(raceResults['Track'] == 'Austria') & (raceResults['Time/Retired'] == 'DNF')] \\\n",
    "    [['Driver', 'Team', 'Laps']]"
   ]
  },
  {
   "cell_type": "markdown",
   "id": "1c194251-3cba-4553-aca8-b1b6e7b61a3b",
   "metadata": {},
   "source": [
    "### In the second step, I'd like to get the DNF counts according to drivers:"
   ]
  },
  {
   "cell_type": "code",
   "execution_count": null,
   "id": "215079d3-5768-4608-898b-cf4a8a0f25be",
   "metadata": {},
   "outputs": [],
   "source": [
    "DNFdriver = DNF['Driver'].value_counts()\n",
    "colors = ['cyan', 'red', 'blue', 'green', 'orange', 'purple', 'magenta', 'yellow', 'lightblue', 'gray']\n",
    "plt.figure(figsize=(11, 7))\n",
    "plt.barh([driver.split()[1] for driver in DNFdriver.index], DNFdriver.values, color=colors[:len(DNFdriver)])\n",
    "for i in range(len(DNFdriver.values)):\n",
    "    plt.text(DNFdriver.values[i] - 0.18, i + 0.21, DNFdriver.values[i], color='k', fontsize=15)\n",
    "plt.axis([0, max(DNFdriver.values) + 0.3, len(DNFdriver) - 0.4, -0.6])\n",
    "plt.title(\"Formula 1 - 2023 Season - DNFs by Drivers\", fontsize=18)\n",
    "plt.xlabel(\"DNFs\", fontsize=13)\n",
    "plt.xticks(fontsize=13)\n",
    "plt.yticks(fontsize=13)\n",
    "plt.grid(axis='y')\n",
    "plt.show()"
   ]
  },
  {
   "cell_type": "markdown",
   "id": "4acb1803-3333-4494-be3e-ae03aafffda9",
   "metadata": {},
   "source": [
    "### In the third step, I'd like to get the DNF counts according to Teams:"
   ]
  },
  {
   "cell_type": "code",
   "execution_count": null,
   "id": "4ebcb132-ebed-4f48-ad51-aaba4cc2bc67",
   "metadata": {},
   "outputs": [],
   "source": [
    "DNFteam = DNF['Team'].value_counts()\n",
    "colors = ['cyan', 'red', 'blue', 'green', 'orange', 'purple', 'magenta', 'yellow', 'lightblue', 'gray']\n",
    "c = colors[:len(DNFteam)]\n",
    "plt.figure(figsize=(11, 6))\n",
    "plt.barh(DNFteam.index, DNFteam.values, color=c)\n",
    "for i in range(len(DNFteam.values)):\n",
    "    plt.text(DNFteam.values[i] - 0.35, i + 0.15, DNFteam.values[i], color='k', fontsize=17)\n",
    "plt.axis([0, max(DNFteam.values) + 0.3, len(DNFteam) - 0.4, -0.6])\n",
    "plt.title(\"Formula 1 - 2023 Season - DNFs by Teams\", fontsize=18)\n",
    "plt.xlabel(\"DNFs\", fontsize=13)\n",
    "plt.xticks(fontsize=13)\n",
    "plt.yticks(fontsize=13)\n",
    "plt.grid(axis='y')\n",
    "plt.show()"
   ]
  },
  {
   "cell_type": "code",
   "execution_count": null,
   "id": "ad9ef241-4c1c-4b21-bc98-7e162f6c66c9",
   "metadata": {},
   "outputs": [],
   "source": [
    "raceResults[(raceResults['Team'] == 'Mercedes') & (raceResults['Time/Retired'] == 'DNF')] \\\n",
    "    [['Track', 'Driver', 'Team', 'Starting Grid']]"
   ]
  },
  {
   "cell_type": "code",
   "execution_count": null,
   "id": "6daff1fe-0f0d-4b9b-b744-54cb0f51a216",
   "metadata": {},
   "outputs": [],
   "source": [
    "raceResults[raceResults['Time/Retired'] == 'DNS'].loc[:,'Track':'Team'].set_index('Track')"
   ]
  },
  {
   "cell_type": "code",
   "execution_count": null,
   "id": "ba12a3d1-13ac-42c3-8ef3-4e3eb8af2304",
   "metadata": {},
   "outputs": [],
   "source": [
    "raceResults[(raceResults['Position'] != 'NC') & (raceResults['Time/Retired'] == 'DNF')] \\\n",
    "        .loc[:,'Track':'Laps'].set_index('Track')"
   ]
  },
  {
   "cell_type": "markdown",
   "id": "7e7fafac-eaa9-40be-ac55-b0d0840f4ccf",
   "metadata": {},
   "source": [
    "### Drivers in Top 10 - Points Progression in 2023 Season"
   ]
  },
  {
   "cell_type": "code",
   "execution_count": null,
   "id": "2d999647-1015-451f-9c0c-3a0a82e1573c",
   "metadata": {},
   "outputs": [],
   "source": [
    "GPnames = raceResults['Track'].unique()\n",
    "TopTenDrivers = driversSt.head(10)['Driver'].values\n",
    "colors = ['cyan', 'red', 'blue', 'green', 'orange', 'purple', 'magenta', 'yellow', 'lightblue', 'gray']\n",
    "color = colors[:len(TopTenDrivers)]\n",
    "abbr = [driver.split()[1] for driver in TopTenDrivers]\n",
    "plt.figure(figsize=(15,7))\n",
    "for i in range(len(TopTenDrivers)):\n",
    "    ptsPrg = raceResults[raceResults['Driver'] == TopTenDrivers[i]]['Points'].cumsum().values\n",
    "    for j in range(len(GPnames)):\n",
    "        if TopTenDrivers[i] not in raceResults[raceResults['Track'] == GPnames[j]]['Driver'].values:\n",
    "            ptsPrg = np.insert(ptsPrg, j-1, ptsPrg[j-1])\n",
    "    if abbr[i].upper()[0:3] in ['BOT','ALB','NOR']:\n",
    "        plt.plot(ptsPrg, color=color[i], label=abbr[i], marker='d', markersize=5, linestyle='-.', linewidth=2.5)\n",
    "    else:  plt.plot(ptsPrg, color=color[i], label=abbr[i], marker='d', markersize=5, linewidth=2.5)\n",
    "plt.axis([-0.2,16.4,-5,360])\n",
    "plt.title(\"Formula 1 - 2023 Season - Points Progression for Drivers in Top 10\", fontsize=20)\n",
    "plt.xlabel(\"Tracks\", fontsize=14)\n",
    "plt.xticks(range(len(GPnames)), GPnames, rotation=70, fontsize=13)\n",
    "plt.ylabel(\"Points\", fontsize=14)\n",
    "plt.yticks(fontsize=13)\n",
    "plt.legend(fontsize=13)\n",
    "plt.grid(which='both', linestyle='--', linewidth=0.7, alpha=0.7)\n",
    "plt.show()"
   ]
  },
  {
   "cell_type": "markdown",
   "id": "f54005eb-9130-45d9-ae6f-984fb4bbb9ff",
   "metadata": {},
   "source": [
    "### Teams - Points Progression in 2023 Season"
   ]
  },
  {
   "cell_type": "code",
   "execution_count": null,
   "id": "8138e605-a5ce-420f-a168-c6e5ea0cd44f",
   "metadata": {},
   "outputs": [],
   "source": [
    "trackTeamPts = raceResults.groupby(['Track','Team'])['Points'].agg('sum')\n",
    "if ('British Grand Prix', 'Red Bull Racing Honda RBPT') in trackTeamPts.index:\n",
    "    trackTeamPts.loc[('British Grand Prix', 'Red Bull Racing Honda RBPT')] -= 15\n",
    "trackOrder = raceResults['Track'].unique()\n",
    "teamOrder = constructorsSt['Team'].unique()\n",
    "colors = ['cyan', 'red', 'blue', 'green', 'orange', 'purple', 'magenta', 'yellow', 'lightblue', 'gray']\n",
    "color = colors[:len(trackTeamPts)]\n",
    "abbr = [\" \".join(team.split()[0:2]) for team in teamOrder]\n",
    "plt.figure(figsize=(15,7))\n",
    "for i in range(len(teamOrder)):\n",
    "    teamPts = []\n",
    "    for j in range(len(trackOrder)):\n",
    "        teamPts.append(trackTeamPts.loc[(trackOrder[j],teamOrder[i])])\n",
    "    teamPts = np.array(teamPts).cumsum()\n",
    "    plt.plot(teamPts, color=color[i], label=abbr[i], marker='d', markersize=5, linewidth=2.5)\n",
    "plt.title(\"Formula 1 - 2023 Season - Points Progression for Teams\", fontsize=20)\n",
    "plt.axis([-0.2,16.4,-5,600])\n",
    "plt.xlabel('Tracks', fontsize=14)\n",
    "plt.xticks(range(len(trackOrder)), trackOrder, rotation=70, fontsize=13)\n",
    "plt.ylabel('Points', fontsize=14)\n",
    "plt.yticks(fontsize=13)\n",
    "plt.legend(fontsize=13)\n",
    "plt.grid(which='both', linestyle='--', linewidth=0.7, alpha=0.7)\n",
    "plt.show()"
   ]
  },
  {
   "cell_type": "markdown",
   "id": "27aa6667-1299-4b29-895d-c3cea28427e0",
   "metadata": {},
   "source": [
    "### Drivers in Top 10 - Race Finish Positions in 2023 Season"
   ]
  },
  {
   "cell_type": "code",
   "execution_count": null,
   "id": "85187ae3-7653-4f1e-a1f5-d90a2bb1dfa1",
   "metadata": {},
   "outputs": [],
   "source": [
    "def assign_color(category, items):\n",
    "    color_list = list(CSS4_COLORS.values())\n",
    "    np.random.seed(0)  # For reproducible results\n",
    "    np.random.shuffle(color_list)\n",
    "    return color_list[:len(items)]\n",
    "finishPos = raceResults[['Track', 'Driver', 'Position']].copy()\n",
    "finishPos['Position'] = finishPos['Position'].replace({'NC': 20, 'DQ': 20}).astype(float)\n",
    "driverOrder = driversSt['Driver'].unique() \n",
    "color = assign_color('drivers', driverOrder)  \n",
    "print(f\"Number of drivers: {len(driverOrder)}\")\n",
    "print(f\"Number of colors: {len(color)}\")\n",
    "plt.figure(figsize=(16, 7))\n",
    "plt.axis([-0.2, len(trackOrder) - 0.5, 20.2, 0.75])  \n",
    "plt.plot([2, 5], [7, 5], color='#555555', linewidth=10)\n",
    "plt.plot([14, 16], [1, 3], color='#555555', linewidth=10)\n",
    "for i, driver in enumerate(driverOrder):\n",
    "    driverPos = finishPos[finishPos['Driver'] == driver]['Position'].values\n",
    "    abbr = driver.split()[1].upper()[:3]\n",
    "    if abbr == 'HAM' and len(driverPos) < 16:\n",
    "        driverPos = np.insert(driverPos, 15, np.nan)\n",
    "    if abbr == 'PER' and len(driverPos) < 5:\n",
    "        driverPos = np.insert(driverPos, 3, [np.nan, np.nan])\n",
    "    trackOrder_adjusted = trackOrder[:len(driverPos)]\n",
    "    if len(trackOrder_adjusted) != len(driverPos):\n",
    "        print(f\"Warning: Length mismatch for {driver} - Tracks: {len(trackOrder_adjusted)}, Positions: {len(driverPos)}\")\n",
    "        continue  \n",
    "    plt.plot(trackOrder_adjusted, driverPos, color=color[i], marker='o', markersize=9,\n",
    "             linestyle='--' if abbr in ['BOT', 'ALB', 'NOR'] else '-', label=driver.split()[1])\n",
    "plt.title(\"Formula 1 - 2020 Season - Race Finish Positions by Drivers in Top 10\", fontsize=20)\n",
    "plt.xlabel('Tracks', fontsize=14)\n",
    "plt.xticks(rotation=75, fontsize=13)\n",
    "plt.ylabel('Finish Position', fontsize=14)\n",
    "plt.yticks(range(1, 21), fontsize=12)\n",
    "plt.legend(title='Drivers', fontsize=12)\n",
    "plt.grid(True)\n",
    "plt.tight_layout()  \n",
    "plt.show()"
   ]
  },
  {
   "cell_type": "markdown",
   "id": "dfee2b6c-3271-4fa4-8522-1b14fd0b56ac",
   "metadata": {},
   "source": [
    "### Laps and Distances Driven by Drivers"
   ]
  },
  {
   "cell_type": "code",
   "execution_count": null,
   "id": "3cba65a1-3239-46b8-933b-ec8b22cdbe93",
   "metadata": {},
   "outputs": [],
   "source": [
    "driverLaps = raceResults.groupby(['Driver'])['Laps'].sum().sort_values().tail(20)\n",
    "c = assign_color('drivers', driverLaps.index)\n",
    "abbr = [driver.split()[1] for driver in driverLaps.index]\n",
    "plt.figure(figsize=(13, 8.5))\n",
    "plt.barh(driverLaps.index, driverLaps, color=c)\n",
    "plt.axis([300, 1400, -0.6, 19.5])\n",
    "for i in range(len(driverLaps)):\n",
    "    plt.text(driverLaps.iloc[i] / 2, i, driverLaps.iloc[i], fontsize=13, color='k', ha='center', va='center')\n",
    "plt.text(1300, 0.4, \"*Reserve Drivers Not Included\", fontsize=14)\n",
    "plt.title(\"Formula 1 - 2023 Season - Total Laps Driven by Drivers (Race Session Only)\", fontsize=18)\n",
    "plt.xlabel('Laps Driven', fontsize=14)\n",
    "plt.xticks(fontsize=13)\n",
    "plt.ylabel('Drivers', fontsize=14)\n",
    "plt.yticks(range(20), abbr, fontsize=13)\n",
    "plt.grid(axis='y')\n",
    "plt.show()"
   ]
  },
  {
   "cell_type": "markdown",
   "id": "511c0fe6-18e9-40d2-ac70-3443cf86f779",
   "metadata": {},
   "source": [
    "### Estimated distance driven"
   ]
  },
  {
   "cell_type": "code",
   "execution_count": null,
   "id": "5ef51b6e-04e7-4355-8461-36a1adff5948",
   "metadata": {},
   "outputs": [],
   "source": [
    "circuitLenOrder = calendar['Circuit Length(km)'].values\n",
    "driverLaps = raceResults.groupby(['Driver', 'Track'])['Laps'].sum().reset_index()\n",
    "driverOrder = driversSt['Driver'].unique()\n",
    "indexes_to_delete = [14, 21, 22]\n",
    "indexes_to_delete = [i for i in indexes_to_delete if i < len(driverOrder)]\n",
    "driverOrder = np.delete(driverOrder, indexes_to_delete)\n",
    "trackOrder = raceResults['Track'].unique()\n",
    "if len(trackOrder) < len(circuitLenOrder):\n",
    "    circuitLenOrder = circuitLenOrder[:len(trackOrder)]\n",
    "elif len(trackOrder) > len(circuitLenOrder):\n",
    "    trackOrder = trackOrder[:len(circuitLenOrder)]\n",
    "driverTotDist = np.array([])\n",
    "for i in range(len(driverOrder)):\n",
    "    dlaps = np.zeros(len(trackOrder))\n",
    "    for j in range(len(trackOrder)):\n",
    "        dl = driverLaps.loc[(driverLaps['Driver'] == driverOrder[i]) & (driverLaps['Track'] == trackOrder[j])]['Laps'].tolist()\n",
    "        if len(dl) != 0:\n",
    "            dlaps[j] = dl[0]\n",
    "    driverTotDist = np.append(driverTotDist, sum(dlaps * circuitLenOrder))\n",
    "driverTotDist = pd.Series(driverTotDist, index=driverOrder).sort_values()\n",
    "c = assign_color('drivers', driverTotDist.index)\n",
    "plt.figure(figsize=(13, 8.5))\n",
    "plt.axis([3500, 7000, -0.6, 19.5])  \n",
    "plt.barh([driver.split()[1] for driver in driverTotDist.index], driverTotDist, color=c)\n",
    "for i in range(len(driverTotDist)):\n",
    "    plt.text(driverTotDist.iloc[i] - 120, i - 0.15, \"{:6.2f}\".format(driverTotDist.iloc[i]), color='k', fontsize=13)\n",
    "plt.text(6800, 0.4, \"*Reserve Drivers Not Included\", fontsize=14)\n",
    "plt.title(\"Formula 1 - 2023 Season - Estimated Distance Driven by Drivers (Race Session Only)\", fontsize=18)\n",
    "plt.xlabel('Est. Distance Driven (km)', fontsize=14)\n",
    "plt.xticks(fontsize=13)\n",
    "plt.ylabel('Drivers', fontsize=14)\n",
    "plt.yticks(fontsize=13)\n",
    "plt.grid(axis='y')\n",
    "plt.show()"
   ]
  }
 ],
 "metadata": {
  "kernelspec": {
   "display_name": "Python 3 (ipykernel)",
   "language": "python",
   "name": "python3"
  },
  "language_info": {
   "codemirror_mode": {
    "name": "ipython",
    "version": 3
   },
   "file_extension": ".py",
   "mimetype": "text/x-python",
   "name": "python",
   "nbconvert_exporter": "python",
   "pygments_lexer": "ipython3",
   "version": "3.12.4"
  }
 },
 "nbformat": 4,
 "nbformat_minor": 5
}
